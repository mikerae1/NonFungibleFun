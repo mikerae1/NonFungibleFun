{
 "cells": [
  {
   "cell_type": "code",
   "execution_count": 1,
   "id": "8e94cbfa-9c0d-4ea4-9e06-9efe11946dc2",
   "metadata": {},
   "outputs": [
    {
     "data": {
      "text/plain": [
       "True"
      ]
     },
     "execution_count": 1,
     "metadata": {},
     "output_type": "execute_result"
    }
   ],
   "source": [
    "# Initital imports\n",
    "\n",
    "import os\n",
    "import requests\n",
    "from dotenv import load_dotenv\n",
    "load_dotenv()"
   ]
  },
  {
   "cell_type": "code",
   "execution_count": 2,
   "id": "3d24a254-b119-4607-bacd-de6393331590",
   "metadata": {},
   "outputs": [],
   "source": [
    "# Set API key\n",
    "\n",
    "rapid_api_key = os.getenv(\"X-RapidAPI-Key\")"
   ]
  },
  {
   "cell_type": "code",
   "execution_count": 5,
   "id": "7dd4ac8f-0267-4e89-8dd6-fc4afeea23df",
   "metadata": {},
   "outputs": [],
   "source": [
    "# Request to send an image for toonification - note returns jpeg image in bytes\n",
    "\n",
    "url = \"https://toonify.p.rapidapi.com/v0/zombify\" # set the toonify type [../v0/toonify, comic, caricature, emojify, zombify, toonifyplus, halloweenify]\n",
    "query = {\n",
    "        \"face_index\": 1, \n",
    "        \"return_aligned\":\"true\",\n",
    "        }\n",
    "headers = {\n",
    "        \"x-rapidapi-host\": \"toonify.p.rapidapi.com\",\n",
    "        \"x-rapidapi-key\": rapid_api_key,\n",
    "        \"accept\": \"image/jpeg\"\n",
    "        }\n",
    "files = {\"image\": open(\"face2.jpg\", \"rb\")} # select image to capture\n",
    "\n",
    "response = requests.request(\"POST\", url, files=files, headers=headers, params=query)\n",
    "\n",
    "image = response.content # note returns jpeg image in bytes"
   ]
  },
  {
   "cell_type": "code",
   "execution_count": 6,
   "id": "c6aa88bc-72b1-4d33-8d72-69e6d7645edd",
   "metadata": {},
   "outputs": [],
   "source": [
    "# Return original and toonified image\n",
    "\n",
    "# Imports required to convert jpeg image in bytes to jpeg\n",
    "from PIL import Image\n",
    "import io\n",
    "\n",
    "stream = io.BytesIO(image)\n",
    "img = Image.open(stream)\n",
    "\n",
    "img.save(\"test2.png\") # choose file name and location to save images, will return original side by side with toonified image"
   ]
  }
 ],
 "metadata": {
  "kernelspec": {
   "display_name": "Python 3",
   "language": "python",
   "name": "python3"
  },
  "language_info": {
   "codemirror_mode": {
    "name": "ipython",
    "version": 3
   },
   "file_extension": ".py",
   "mimetype": "text/x-python",
   "name": "python",
   "nbconvert_exporter": "python",
   "pygments_lexer": "ipython3",
   "version": "3.7.10"
  }
 },
 "nbformat": 4,
 "nbformat_minor": 5
}
